{
 "cells": [
  {
   "cell_type": "markdown",
   "metadata": {},
   "source": [
    "https://www.youtube.com/watch?v=OX89LkTvNKQ&t=105s\n",
    "\n",
    "https://github.com/langchain-ai/langchain-mcp-adapters"
   ]
  },
  {
   "cell_type": "code",
   "execution_count": 1,
   "metadata": {},
   "outputs": [],
   "source": [
    "# MCP client\n",
    "from mcp import ClientSession, StdioServerParameters\n",
    "from mcp.client.stdio import stdio_client\n",
    "\n",
    "# LangGraph agent \n",
    "from langchain_openai import ChatOpenAI\n",
    "from langgraph.prebuilt import create_react_agent\n",
    "from langchain_mcp_adapters.tools import load_mcp_tools\n",
    "\n",
    "# dotenv\n",
    "from dotenv import load_dotenv, find_dotenv\n",
    "import os\n",
    "\n",
    "_ = load_dotenv(find_dotenv())"
   ]
  },
  {
   "cell_type": "code",
   "execution_count": 2,
   "metadata": {},
   "outputs": [],
   "source": [
    "# create execute LLM \n",
    "model = ChatOpenAI(\n",
    "        model=\"gpt-4o\",\n",
    "        api_key=os.getenv(\"OPENAI_API_KEY\"),\n",
    "        base_url=os.getenv(\"OPENAI_BASE_URL\"),\n",
    "        temperature=0.7)\n",
    "\n",
    "# Server parameters\n",
    "# - Handles the incoming connection(in this case, via stdio)\n",
    "# - Handles tools discovery(when client ask \"what tools are available\")\n",
    "# - Handles tool invocation(when client ask to use a tool)\n",
    "# - Executes the tool call and sends the result back to the client\n",
    "server_params = StdioServerParameters(\n",
    "    command=\"python\",\n",
    "    args=[\"math_server.py\"],\n",
    ")\n",
    "\n",
    "\n",
    "# \n",
    "async with stdio_client(server_params) as (read, write):\n",
    "    async with ClientSession(read, write) as session:\n",
    "        # Initialize the connection\n",
    "        await session.initialize()\n",
    "\n",
    "        # Convert MCP Tools to LangChain Tools \n",
    "        tools = await load_mcp_tools(session)\n",
    "        \n",
    "        # Create the agent and run \n",
    "        agent = create_react_agent(model, tools)\n",
    "        agent_response = await agent.ainvoke({\"messages\": \"what's (3 + 5) x 12?\"})"
   ]
  },
  {
   "cell_type": "code",
   "execution_count": 4,
   "metadata": {},
   "outputs": [
    {
     "name": "stdout",
     "output_type": "stream",
     "text": [
      "================================\u001b[1m Human Message \u001b[0m=================================\n",
      "\n",
      "what's (3 + 5) x 12?\n",
      "==================================\u001b[1m Ai Message \u001b[0m==================================\n",
      "Tool Calls:\n",
      "  add (call_J66eiLANJ2M619Qj9GuRHQ27)\n",
      " Call ID: call_J66eiLANJ2M619Qj9GuRHQ27\n",
      "  Args:\n",
      "    a: 3\n",
      "    b: 5\n",
      "  multiply (call_e2CQ4kzTsm2wF5Nhiz5Q6jgh)\n",
      " Call ID: call_e2CQ4kzTsm2wF5Nhiz5Q6jgh\n",
      "  Args:\n",
      "    a: 8\n",
      "    b: 12\n",
      "=================================\u001b[1m Tool Message \u001b[0m=================================\n",
      "Name: add\n",
      "\n",
      "8\n",
      "=================================\u001b[1m Tool Message \u001b[0m=================================\n",
      "Name: multiply\n",
      "\n",
      "96\n",
      "==================================\u001b[1m Ai Message \u001b[0m==================================\n",
      "\n",
      "The result of \\((3 + 5) \\times 12\\) is 96.\n"
     ]
    }
   ],
   "source": [
    "for m in agent_response['messages']:\n",
    "    m.pretty_print()"
   ]
  },
  {
   "cell_type": "code",
   "execution_count": 12,
   "metadata": {},
   "outputs": [],
   "source": [
    "from langchain_mcp_adapters.client import MultiServerMCPClient \n",
    "\n",
    "async with MultiServerMCPClient() as client:\n",
    "    await client.connect_to_server(\n",
    "        \"math\",\n",
    "        command=\"python\",\n",
    "        # Make sure to update to the full absolute path to your math_server.py file\n",
    "        args=[\"math_server.py\"],\n",
    "    )\n",
    "    await client.connect_to_server(\n",
    "        \"weather\",\n",
    "        command=\"python\",\n",
    "        # Make sure to update to the full absolute path to your weather_server.py file\n",
    "        args=[\"weather_server.py\"],\n",
    "    )\n",
    "    agent = create_react_agent(model, client.get_tools())\n",
    "    math_response = await agent.ainvoke({\"messages\": \"what's (3 + 2) x 102?\"})\n",
    "    weather_response = await agent.ainvoke({\"messages\": \"what is the weather in Hangzhou?\"})"
   ]
  },
  {
   "cell_type": "code",
   "execution_count": 13,
   "metadata": {},
   "outputs": [
    {
     "name": "stdout",
     "output_type": "stream",
     "text": [
      "================================\u001b[1m Human Message \u001b[0m=================================\n",
      "\n",
      "what's (3 + 2) x 102?\n",
      "==================================\u001b[1m Ai Message \u001b[0m==================================\n",
      "Tool Calls:\n",
      "  add (call_mFWUNjAYnqHT7JdoXiK1navt)\n",
      " Call ID: call_mFWUNjAYnqHT7JdoXiK1navt\n",
      "  Args:\n",
      "    a: 3\n",
      "    b: 2\n",
      "  multiply (call_fcbGxPFNXOnJmZeL7ou7dvKm)\n",
      " Call ID: call_fcbGxPFNXOnJmZeL7ou7dvKm\n",
      "  Args:\n",
      "    a: 5\n",
      "    b: 102\n",
      "=================================\u001b[1m Tool Message \u001b[0m=================================\n",
      "Name: add\n",
      "\n",
      "5\n",
      "=================================\u001b[1m Tool Message \u001b[0m=================================\n",
      "Name: multiply\n",
      "\n",
      "510\n",
      "==================================\u001b[1m Ai Message \u001b[0m==================================\n",
      "\n",
      "(3 + 2) x 102 = 510\n"
     ]
    }
   ],
   "source": [
    "for m in math_response['messages']:\n",
    "    m.pretty_print()"
   ]
  },
  {
   "cell_type": "code",
   "execution_count": 14,
   "metadata": {},
   "outputs": [
    {
     "name": "stdout",
     "output_type": "stream",
     "text": [
      "================================\u001b[1m Human Message \u001b[0m=================================\n",
      "\n",
      "what is the weather in Hangzhou?\n",
      "==================================\u001b[1m Ai Message \u001b[0m==================================\n",
      "Tool Calls:\n",
      "  get_weather (call_tEisd1A1uemb2uAwnM1SGB1d)\n",
      " Call ID: call_tEisd1A1uemb2uAwnM1SGB1d\n",
      "  Args:\n",
      "    location: Hangzhou\n",
      "=================================\u001b[1m Tool Message \u001b[0m=================================\n",
      "Name: get_weather\n",
      "\n",
      "{\"basic\": {\"description\": \"clear sky\", \"temp\": 9.95, \"temp_min\": 9.95, \"temp_max\": 9.95, \"unit\": \"celsius\"}, \"advanced\": {\"feels_like\": 9.1, \"humidity\": 36, \"wind_speed\": 2.04, \"cloud_cover\": 2, \"pressure\": 1034, \"visibility\": 10000, \"sunrise\": \"06:31\", \"sunset\": \"17:54\"}}\n",
      "==================================\u001b[1m Ai Message \u001b[0m==================================\n",
      "\n",
      "The current weather in Hangzhou is as follows:\n",
      "- Description: Clear sky\n",
      "- Temperature: 9.95°C\n",
      "- Feels Like: 9.1°C\n",
      "- Humidity: 36%\n",
      "- Wind Speed: 2.04 m/s\n",
      "- Cloud Cover: 2%\n",
      "- Pressure: 1034 hPa\n",
      "- Visibility: 10 km\n",
      "- Sunrise: 06:31\n",
      "- Sunset: 17:54\n"
     ]
    }
   ],
   "source": [
    "for m in weather_response['messages']:\n",
    "    m.pretty_print()"
   ]
  },
  {
   "cell_type": "code",
   "execution_count": null,
   "metadata": {},
   "outputs": [],
   "source": []
  }
 ],
 "metadata": {
  "kernelspec": {
   "display_name": ".venv",
   "language": "python",
   "name": "python3"
  },
  "language_info": {
   "codemirror_mode": {
    "name": "ipython",
    "version": 3
   },
   "file_extension": ".py",
   "mimetype": "text/x-python",
   "name": "python",
   "nbconvert_exporter": "python",
   "pygments_lexer": "ipython3",
   "version": "3.12.9"
  }
 },
 "nbformat": 4,
 "nbformat_minor": 2
}
